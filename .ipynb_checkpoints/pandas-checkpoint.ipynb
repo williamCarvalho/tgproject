{
 "cells": [
  {
   "cell_type": "code",
   "execution_count": null,
   "metadata": {},
   "outputs": [],
   "source": [
    "# %pylab inline\n",
    "import pandas as pd\n",
    "import numpy as np\n",
    "import matplotlib.pyplot as plt\n",
    "%matplotlib inline\n",
    "\n",
    "broken_df = pd.read_csv('comptagevelo20162.csv')\n",
    "# Look at the first 3 rows\n",
    "broken_df[:3]\n",
    "\n",
    "fixed_df = pd.read_csv('comptagevelo20162.csv', sep=',', encoding='latin1', parse_dates=['Date'], dayfirst=True, index_col='Date') \n",
    "# Look at the first 3 rows\n",
    "fixed_df[:3]\n",
    "# plt.show()\n",
    "fixed_df['Berri1'].plot(kind='bar')"
   ]
  }
 ],
 "metadata": {
  "kernelspec": {
   "display_name": "Python 2",
   "language": "python",
   "name": "python2"
  },
  "language_info": {
   "codemirror_mode": {
    "name": "ipython",
    "version": 2
   },
   "file_extension": ".py",
   "mimetype": "text/x-python",
   "name": "python",
   "nbconvert_exporter": "python",
   "pygments_lexer": "ipython2",
   "version": "2.7.13"
  }
 },
 "nbformat": 4,
 "nbformat_minor": 2
}
